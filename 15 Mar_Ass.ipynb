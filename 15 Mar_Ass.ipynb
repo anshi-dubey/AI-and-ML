{
 "cells": [
  {
   "cell_type": "markdown",
   "id": "d2f39a18-83fd-4e9c-8440-eb18f772fea0",
   "metadata": {},
   "source": [
    "Q1: Explain the following with an example\n",
    "a) Artificial Intelligence\n",
    "b) Machine Learning \n",
    "c) Deep Learning\n",
    "\n"
   ]
  },
  {
   "cell_type": "markdown",
   "id": "99d4f1b6-b0f9-4e8d-93ea-8d02f6b46155",
   "metadata": {},
   "source": [
    "\n",
    "\n",
    "Q1: \n",
    "\n",
    "a) **Artificial Intelligence (AI)**: AI refers to the simulation of human intelligence in machines that are programmed to think and mimic human actions. An example of AI is IBM's Watson, which can understand and respond to natural language questions.\n",
    "\n",
    "b) **Machine Learning (ML)**: ML is a subset of AI that allows systems to learn from data without being explicitly programmed. An example is a spam filter that learns to differentiate between spam and non-spam emails based on user feedback.\n",
    "\n",
    "c) **Deep Learning (DL)**: DL is a subset of ML that uses neural networks with many layers (deep neural networks) to learn from large amounts of data. An example is image recognition software like Google's DeepMind, which can identify objects in photos.\n",
    "\n"
   ]
  },
  {
   "cell_type": "code",
   "execution_count": null,
   "id": "0109c9f6-8f00-4213-baef-e746851848b2",
   "metadata": {},
   "outputs": [],
   "source": []
  },
  {
   "cell_type": "markdown",
   "id": "427b0013-2773-4039-8e8f-a5c1ddaf2e72",
   "metadata": {},
   "source": [
    "Q2: What is supervised learning? List some examples of supervised learning.\n",
    " \n",
    "\n",
    "\n",
    "ans:\n",
    "**Supervised learning** is a type of ML where the model is trained on a labeled dataset, meaning that each input is paired with the correct output. Examples include:\n",
    "- Image classification: Given images of animals labeled with their respective species, the model learns to classify new images.\n",
    "- Spam detection: Using labeled email data (spam or not spam), the model learns to predict whether new emails are spam or not.\n",
    "\n"
   ]
  },
  {
   "cell_type": "code",
   "execution_count": null,
   "id": "5c83dd40-1a98-436f-b1d1-b3b2c488ce9d",
   "metadata": {},
   "outputs": [],
   "source": []
  },
  {
   "cell_type": "markdown",
   "id": "2177216c-ace9-46eb-a753-391a4f1f16ed",
   "metadata": {},
   "source": [
    "Q3:  What is unsupervised learning? List some examples of unsupervised learning.\n",
    " \n",
    "ans:\n",
    "**Unsupervised learning** is a type of ML where the model is trained on an unlabeled dataset, and it must find patterns or structure in the data on its own. Examples include:\n",
    "- Clustering: Grouping similar customers based on their purchase history.\n",
    "- Anomaly detection: Identifying unusual patterns in data that deviate from the norm.\n",
    "\n"
   ]
  },
  {
   "cell_type": "code",
   "execution_count": null,
   "id": "e653842f-1974-43ee-a5c9-eeb1fd180cd2",
   "metadata": {},
   "outputs": [],
   "source": []
  },
  {
   "cell_type": "markdown",
   "id": "79e12aa5-063b-4742-831b-07e9541440fd",
   "metadata": {},
   "source": [
    "Q4: What is the difference between AI, ML, DL, and DS?\n",
    "\n",
    "ans:\n",
    "- **AI (Artificial Intelligence)**: The broader field of creating intelligent machines capable of mimicking human behavior.\n",
    "- **ML (Machine Learning)**: A subset of AI focused on systems learning from data without explicit programming.\n",
    "- **DL (Deep Learning)**: A subset of ML that uses neural networks with many layers to learn from large amounts of data.\n",
    "- **DS (Data Science)**: The interdisciplinary field that uses scientific methods, algorithms, and systems to extract insights and knowledge from data.\n",
    "\n"
   ]
  },
  {
   "cell_type": "code",
   "execution_count": null,
   "id": "dab0243a-6420-455a-af42-478ae8d5ffb6",
   "metadata": {},
   "outputs": [],
   "source": []
  },
  {
   "cell_type": "markdown",
   "id": "84b99ea6-f55c-4e60-a006-c05d3d8bb971",
   "metadata": {},
   "source": [
    "Q5: What are the main differences between supervised, unsupervised, and semi-supervised learning?\n",
    " \n",
    "\n",
    "ans:\n",
    "\n",
    "- **Supervised learning**: Requires labeled data for training, where the model learns to predict outcomes based on input features.\n",
    "- **Unsupervised learning**: Learns patterns and structures in data without explicit labels.\n",
    "- **Semi-supervised learning**: Uses a combination of labeled and unlabeled data for training.\n",
    "\n"
   ]
  },
  {
   "cell_type": "code",
   "execution_count": null,
   "id": "707a221d-b76e-4135-83a1-92f6bf833d83",
   "metadata": {},
   "outputs": [],
   "source": []
  },
  {
   "cell_type": "markdown",
   "id": "476ff2e0-7f62-4f2e-9c57-6175a2748487",
   "metadata": {},
   "source": [
    "Q6: What is traning test and validation split? Explain the importance of each term.\n",
    "\n",
    "ans:\n",
    "\n",
    "- **Training set**: Used to train the model.\n",
    "- **Validation set**: Used to tune hyperparameters and evaluate model performance during training.\n",
    "- **Test set**: Used to assess the model's performance after training.\n"
   ]
  },
  {
   "cell_type": "code",
   "execution_count": null,
   "id": "c2db0377-c468-4d60-af07-971a9c7f5490",
   "metadata": {},
   "outputs": [],
   "source": []
  },
  {
   "cell_type": "markdown",
   "id": "ccd1a846-a42a-401e-b30b-f81f7b130908",
   "metadata": {},
   "source": [
    "Q7: How can unsupervised learning be used in anomaly detection?\n",
    "\n",
    "ans:\n",
    "Unsupervised learning can be used in anomaly detection by identifying data points that deviate significantly from the norm. For example, clustering algorithms can group normal data points together, allowing anomalies to stand out as data points that do not fit into any cluster.\n",
    "\n"
   ]
  },
  {
   "cell_type": "code",
   "execution_count": null,
   "id": "874002d8-1179-41a9-86b7-a6c978501932",
   "metadata": {},
   "outputs": [],
   "source": []
  },
  {
   "cell_type": "markdown",
   "id": "92044f10-7c0b-4f76-9c14-dbb79bda2bc8",
   "metadata": {},
   "source": [
    "Q8: List down some commonly used supervised learning algorithms and unsupervised learning \n",
    "algorithms\n",
    "\n",
    "ans:\n",
    "- **Supervised learning algorithms**: Linear regression, logistic regression, decision trees, random forests, support vector machines (SVM), k-nearest neighbors (k-NN), neural networks.\n",
    "- **Unsupervised learning algorithms**: K-means clustering, hierarchical clustering, principal component analysis (PCA), Gaussian mixture models, t-distributed stochastic neighbor embedding (t-SNE)."
   ]
  }
 ],
 "metadata": {
  "kernelspec": {
   "display_name": "Python 3 (ipykernel)",
   "language": "python",
   "name": "python3"
  },
  "language_info": {
   "codemirror_mode": {
    "name": "ipython",
    "version": 3
   },
   "file_extension": ".py",
   "mimetype": "text/x-python",
   "name": "python",
   "nbconvert_exporter": "python",
   "pygments_lexer": "ipython3",
   "version": "3.9.2"
  }
 },
 "nbformat": 4,
 "nbformat_minor": 5
}
